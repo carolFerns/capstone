{
 "cells": [
  {
   "cell_type": "code",
   "execution_count": 23,
   "metadata": {},
   "outputs": [],
   "source": [
    "import pandas as pd\n",
    "import os\n",
    "\n",
    "def produceOneCSV(listOfFiles, fileOut):\n",
    "    resultObj = pd.concat([pd.read_csv(file) for file in listOfFiles], sort = True)\n",
    "    resultObj.to_csv(fileOut, index = False, encoding = \"utf-8\")"
   ]
  },
  {
   "cell_type": "code",
   "execution_count": 24,
   "metadata": {},
   "outputs": [],
   "source": [
    "csvFilePath = '/home/r00t/Work/capstone/Data/Output/'\n",
    "os.chdir(csvFilePath)\n",
    "\n",
    "listOfFiles = [file for file in os.listdir()]"
   ]
  },
  {
   "cell_type": "code",
   "execution_count": 22,
   "metadata": {
    "scrolled": false
   },
   "outputs": [],
   "source": [
    "for file in listOfFiles:\n",
    "    df = pd.read_csv(csvFilePath + file)\n",
    "    df.columns = [col.split(\"|\")[0] for col in df.columns]\n",
    "    df.columns = [col.split(\"[\")[0] for col in df.columns]\n",
    "    df.to_csv(csvFilePath + 'clean' + file)"
   ]
  },
  {
   "cell_type": "code",
   "execution_count": 25,
   "metadata": {},
   "outputs": [],
   "source": [
    "fileOut = \"output.csv\"\n",
    "produceOneCSV(listOfFiles, fileOut)"
   ]
  }
 ],
 "metadata": {
  "kernelspec": {
   "display_name": "Python 3",
   "language": "python",
   "name": "python3"
  },
  "language_info": {
   "codemirror_mode": {
    "name": "ipython",
    "version": 3
   },
   "file_extension": ".py",
   "mimetype": "text/x-python",
   "name": "python",
   "nbconvert_exporter": "python",
   "pygments_lexer": "ipython3",
   "version": "3.6.8"
  }
 },
 "nbformat": 4,
 "nbformat_minor": 2
}
