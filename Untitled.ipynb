{
 "cells": [
  {
   "cell_type": "code",
   "execution_count": 2,
   "metadata": {},
   "outputs": [],
   "source": [
    "import pandas as pd\n",
    "import hashlib, binascii\n",
    "import os"
   ]
  },
  {
   "cell_type": "code",
   "execution_count": 3,
   "metadata": {},
   "outputs": [],
   "source": [
    "password = \"trekEmondaSlr9D\""
   ]
  },
  {
   "cell_type": "code",
   "execution_count": 4,
   "metadata": {},
   "outputs": [],
   "source": [
    "def hashKey(data):\n",
    "    global password\n",
    "    keyGen = hashlib.pbkdf2_hmac('md5', data.encode('utf-8'), password.encode('utf-8'), 100000)\n",
    "    return binascii.hexlify(keyGen)"
   ]
  },
  {
   "cell_type": "code",
   "execution_count": 17,
   "metadata": {},
   "outputs": [],
   "source": [
    "root = '/home/r00t/Work/capstone/Data/Input'"
   ]
  },
  {
   "cell_type": "code",
   "execution_count": 23,
   "metadata": {},
   "outputs": [],
   "source": [
    "for file in os.listdir(root):\n",
    "    df = pd.read_csv(root + '/' + file)\n",
    "    df['Key'] = df['Student ID'].apply(hashKey)\n",
    "    \n",
    "    dfKeyMap = df[['Key', 'Student ID']]\n",
    "    dfKeyMap.drop_duplicates(subset ='Student ID', keep ='last')\n",
    "    \n",
    "    df = df.drop(df.columns[[0, 1, 2, 3, 4, 5]], axis =1)\n",
    "    df.to_csv('/home/r00t/Work/capstone/Data/Output/' +file + \"_anonim_data.csv\")"
   ]
  },
  {
   "cell_type": "code",
   "execution_count": 21,
   "metadata": {},
   "outputs": [],
   "source": [
    "dfKeyMap.to_csv('/home/r00t/Work/capstone/Data/Keys/'+ 'studentKeys.csv', index = False)"
   ]
  }
 ],
 "metadata": {
  "kernelspec": {
   "display_name": "Python 3",
   "language": "python",
   "name": "python3"
  },
  "language_info": {
   "codemirror_mode": {
    "name": "ipython",
    "version": 3
   },
   "file_extension": ".py",
   "mimetype": "text/x-python",
   "name": "python",
   "nbconvert_exporter": "python",
   "pygments_lexer": "ipython3",
   "version": "3.6.8"
  }
 },
 "nbformat": 4,
 "nbformat_minor": 2
}
